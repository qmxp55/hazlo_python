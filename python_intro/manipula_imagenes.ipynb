{
 "cells": [
  {
   "cell_type": "markdown",
   "metadata": {},
   "source": [
    "# Reducir tamaño imagenes con Python"
   ]
  },
  {
   "cell_type": "code",
   "execution_count": 1,
   "metadata": {},
   "outputs": [],
   "source": [
    "from PIL import Image\n",
    "import numpy as np\n",
    "import glob\n",
    "import os"
   ]
  },
  {
   "cell_type": "markdown",
   "metadata": {},
   "source": [
    "## 1) una sola imagen"
   ]
  },
  {
   "cell_type": "code",
   "execution_count": 2,
   "metadata": {},
   "outputs": [
    {
     "data": {
      "image/png": "[encoded data removed]",
      "text/plain": [
       "<PIL.PngImagePlugin.PngImageFile image mode=RGBA size=500x500 at 0x7FB6B6AD3A10>"
      ]
     },
     "execution_count": 2,
     "metadata": {},
     "output_type": "execute_result"
    }
   ],
   "source": [
    "#definimos la ruta de la imagen\n",
    "image_path = '../imagenes/logo.png'\n",
    "#cargamos la imagen\n",
    "image = Image.open(image_path)\n",
    "image"
   ]
  },
  {
   "cell_type": "code",
   "execution_count": 3,
   "metadata": {},
   "outputs": [
    {
     "data": {
      "text/plain": [
       "(500, 500)"
      ]
     },
     "execution_count": 3,
     "metadata": {},
     "output_type": "execute_result"
    }
   ],
   "source": [
    "# obtener las dimensiones en pixeles\n",
    "image.size"
   ]
  },
  {
   "cell_type": "code",
   "execution_count": 5,
   "metadata": {},
   "outputs": [],
   "source": [
    "def reduce(size, n):\n",
    "    \n",
    "    size = np.array(size) * n\n",
    "    size = [np.int(np.floor(i)) for i in size]\n",
    "    size = tuple(size)\n",
    "    \n",
    "    return size"
   ]
  },
  {
   "cell_type": "code",
   "execution_count": 6,
   "metadata": {},
   "outputs": [
    {
     "data": {
      "text/plain": [
       "(250, 250)"
      ]
     },
     "execution_count": 6,
     "metadata": {},
     "output_type": "execute_result"
    }
   ],
   "source": [
    "# reducimos la imagen a la mitad de los pixeles de cada lado\n",
    "new_size = reduce(image.size, 0.5)\n",
    "image = image.resize(new_size, Image.ANTIALIAS)\n",
    "image.size"
   ]
  },
  {
   "cell_type": "code",
   "execution_count": 7,
   "metadata": {},
   "outputs": [],
   "source": [
    "# guardamos la imagen reducida\n",
    "image.save('../imagenes/NEW_logo.png')"
   ]
  },
  {
   "cell_type": "markdown",
   "metadata": {},
   "source": [
    "## 2) multiples imagenes"
   ]
  },
  {
   "cell_type": "code",
   "execution_count": 9,
   "metadata": {},
   "outputs": [
    {
     "data": {
      "text/plain": [
       "['../imagenes/logo_1.jpeg',\n",
       " '../imagenes/logo_2.jpeg',\n",
       " '../imagenes/logo_4.jpeg',\n",
       " '../imagenes/logo_3.jpeg']"
      ]
     },
     "execution_count": 9,
     "metadata": {},
     "output_type": "execute_result"
    }
   ],
   "source": [
    "# definimos la ruta donde se encuentran las imagenes\n",
    "path = '../imagenes/'\n",
    "# cargamos la ruta de las imagenes que inician con 'logo_'\n",
    "ims = glob.glob(os.path.join(path, 'logo_*'))\n",
    "ims"
   ]
  },
  {
   "cell_type": "code",
   "execution_count": 10,
   "metadata": {},
   "outputs": [],
   "source": [
    "\n",
    "for im in ims:\n",
    "    \n",
    "    #cargamos la imagen\n",
    "    image = Image.open(im)\n",
    "    #definimos el nuevo tamaño\n",
    "    new_size = reduce(image.size, 0.5)\n",
    "    #reducimos la imagen\n",
    "    image = image.resize(new_size, Image.ANTIALIAS)\n",
    "    #definimos un nuevo nombre para cada imagen\n",
    "    name = os.path.split(im)[1]\n",
    "    new_name = 'NEW' + '_' + name\n",
    "    #definimos la ruta donde queremos guardar\n",
    "    new_path = os.path.join(path, new_name)\n",
    "    #guardamos las imagenes\n",
    "    image.save(new_path)\n",
    "    "
   ]
  },
  {
   "cell_type": "code",
   "execution_count": null,
   "metadata": {},
   "outputs": [],
   "source": [
    "  "
   ]
  }
 ],
 "metadata": {
  "kernelspec": {
   "display_name": "Python 3",
   "language": "python",
   "name": "python3"
  },
  "language_info": {
   "codemirror_mode": {
    "name": "ipython",
    "version": 3
   },
   "file_extension": ".py",
   "mimetype": "text/x-python",
   "name": "python",
   "nbconvert_exporter": "python",
   "pygments_lexer": "ipython3",
   "version": "3.7.6"
  }
 },
 "nbformat": 4,
 "nbformat_minor": 4
}
